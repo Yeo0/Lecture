{
 "cells": [
  {
   "cell_type": "markdown",
   "metadata": {},
   "source": [
    "# Task 9 \n",
    "\n",
    "Complete the function below. The function should work according its docstrig. Make sure that the function will pass the unittests below."
   ]
  },
  {
   "cell_type": "code",
   "execution_count": 1,
   "metadata": {},
   "outputs": [
    {
     "data": {
      "text/plain": [
       "5"
      ]
     },
     "execution_count": 1,
     "metadata": {},
     "output_type": "execute_result"
    }
   ],
   "source": [
    "def my_function(timestamp=False):\n",
    "\timport datetime\n",
    "\tif not timestamp:\n",
    "\t\treturn datetime.datetime.utcnow().weekday()\n",
    "\telse:\n",
    "\t\treturn datetime.datetime.utcfromtimestamp(timestamp).weekday()\n",
    "\n",
    "my_function()"
   ]
  },
  {
   "cell_type": "code",
   "execution_count": 2,
   "metadata": {},
   "outputs": [
    {
     "name": "stderr",
     "output_type": "stream",
     "text": [
      "test_integer_on_output (__main__.Tests) ... ok\n",
      "test_output_range (__main__.Tests) ... ok\n",
      "test_samples (__main__.Tests) ... ok\n",
      "\n",
      "----------------------------------------------------------------------\n",
      "Ran 3 tests in 0.012s\n",
      "\n",
      "OK\n"
     ]
    },
    {
     "data": {
      "text/plain": [
       "<unittest.runner.TextTestResult run=3 errors=0 failures=0>"
      ]
     },
     "execution_count": 2,
     "metadata": {},
     "output_type": "execute_result"
    }
   ],
   "source": [
    "import unittest\n",
    "\n",
    "class Tests(unittest.TestCase):\n",
    "\n",
    "    def test_integer_on_output(self):\n",
    "        \"\"\"\n",
    "        Check if function returns integer\n",
    "        \"\"\"\n",
    "        # with input\n",
    "        value = my_function(1514417650)\n",
    "        self.assertEqual(type(value), int)\n",
    "        # with no input\n",
    "        value = my_function()\n",
    "        self.assertEqual(type(value), int)\n",
    "    \n",
    "    def test_samples(self):\n",
    "        \"\"\"\n",
    "        Check if sample input returns correct outputs.\n",
    "        \"\"\"\n",
    "        SAMPLES = (\n",
    "            (1514417650, 2),\n",
    "            (1504414351, 6),\n",
    "            (1503114351, 5),\n",
    "            (1503126652, 5),\n",
    "            (15031, 3),\n",
    "        )\n",
    "        for sample in SAMPLES:\n",
    "            self.assertEqual(my_function(sample[0]), sample[1]) \n",
    "          \n",
    "    def test_output_range(self):\n",
    "        \"\"\"\n",
    "        Check if function returns output in correct range.\n",
    "        \"\"\"\n",
    "        for k in range(10):\n",
    "            input_value = 1500000000 + k * 100000\n",
    "            value = my_function(input_value)\n",
    "            self.assertGreaterEqual(value, 0)\n",
    "            self.assertLess(value, 7)\n",
    "        \n",
    "            \n",
    "suite = unittest.TestLoader().loadTestsFromTestCase(Tests)\n",
    "unittest.TextTestRunner(verbosity=3).run(suite)"
   ]
  }
 ],
 "metadata": {
  "kernelspec": {
   "display_name": "Python 3",
   "language": "python",
   "name": "python3"
  },
  "language_info": {
   "codemirror_mode": {
    "name": "ipython",
    "version": 3
   },
   "file_extension": ".py",
   "mimetype": "text/x-python",
   "name": "python",
   "nbconvert_exporter": "python",
   "pygments_lexer": "ipython3",
   "version": "3.6.1"
  }
 },
 "nbformat": 4,
 "nbformat_minor": 2
}
