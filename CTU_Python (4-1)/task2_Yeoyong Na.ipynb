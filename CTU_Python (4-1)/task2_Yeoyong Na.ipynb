{
 "cells": [
  {
   "cell_type": "code",
   "execution_count": 1,
   "metadata": {
    "collapsed": true
   },
   "outputs": [],
   "source": [
    "# Create a function \"roundtotens\" for rounding a number passed by parameter \"number\" to tens. \n",
    "# The border for rounding is settable and is nonchangable parameter of the function. \n",
    "# Use the function closures technique.\n",
    "\n",
    "# YOUR SOLUTION WITH EXAMPLES OF USAGE WITH TWO DIFFERENT ROUNDING BORDERS HERE"
   ]
  },
  {
   "cell_type": "code",
   "execution_count": 3,
   "metadata": {},
   "outputs": [
    {
     "name": "stdout",
     "output_type": "stream",
     "text": [
      "20\n",
      "30\n",
      "40\n",
      "50\n"
     ]
    }
   ],
   "source": [
    "def set_border(border):\n",
    "    border = border\n",
    "    def roundtotens(number):\n",
    "        if number%10 >= border:\n",
    "            return int(number/10)*10 + 10\n",
    "        else:\n",
    "            return int(number/10)*10\n",
    "    return roundtotens\n",
    "       \n",
    "round_func1 = set_border(4)\n",
    "print(round_func1(23))\n",
    "print(round_func1(25))\n",
    "\n",
    "round_func2 = set_border(6)\n",
    "print(round_func2(43))\n",
    "print(round_func2(47))\n"
   ]
  },
  {
   "cell_type": "code",
   "execution_count": 7,
   "metadata": {
    "collapsed": true
   },
   "outputs": [],
   "source": [
    "# Create an object class \"MyString\" as a subclass of in-build class String. The MyString class should has\n",
    "# a method that return a stored string formated as follows:\n",
    "# - capital letter should be only the first letter in a sentence\n",
    "# - after dot should be single space\n",
    "# - instead multiple spaces there should be allways only one space\n",
    "\n",
    "# YOUR SOLUTION WITH EXAMPLE OF USAGE HERE (USE THE STRING FROM THE TASK 1 FOR THE EXAMPLE)"
   ]
  },
  {
   "cell_type": "code",
   "execution_count": 20,
   "metadata": {},
   "outputs": [
    {
     "name": "stdout",
     "output_type": "stream",
     "text": [
      "This is the first sentence. This is the second one. Last sentence. \n"
     ]
    }
   ],
   "source": [
    "class MyString(str):\n",
    "    def __init__(self, value):\n",
    "        self.value = value\n",
    "        \n",
    "    def method(self):\n",
    "        spl = self.value.split('.')\n",
    "        \n",
    "        for i in range(0,len(spl)):\n",
    "            spl[i] = spl[i].lower()\n",
    "            spl[i] = spl[i].strip()\n",
    "            spl[i] = spl[i].capitalize()\n",
    "            spl[i] = \" \".join(spl[i].split())\n",
    "\n",
    "        return \". \".join(spl)\n",
    "        \n",
    "        \n",
    "mystr = MyString(\"THIS iS tHe   First SENTENCE.this is THE SEcond one.   LasT sentencE.\")\n",
    "print(MyString(mystr.method()))"
   ]
  }
 ],
 "metadata": {
  "kernelspec": {
   "display_name": "Python 3",
   "language": "python",
   "name": "python3"
  },
  "language_info": {
   "codemirror_mode": {
    "name": "ipython",
    "version": 3
   },
   "file_extension": ".py",
   "mimetype": "text/x-python",
   "name": "python",
   "nbconvert_exporter": "python",
   "pygments_lexer": "ipython3",
   "version": "3.6.1"
  }
 },
 "nbformat": 4,
 "nbformat_minor": 2
}
