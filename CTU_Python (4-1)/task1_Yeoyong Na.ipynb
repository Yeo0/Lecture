{
 "cells": [
  {
   "cell_type": "code",
   "execution_count": 1,
   "metadata": {},
   "outputs": [
    {
     "name": "stdout",
     "output_type": "stream",
     "text": [
      "2\n",
      "15\n",
      "30\n",
      "45\n",
      "60\n",
      "75\n",
      "90\n",
      "This is the first sentence. This is the second one. Last sentence. \n"
     ]
    }
   ],
   "source": [
    "# select and print words, that contain letter \"a\"\n",
    "\n",
    "words = [\"cat\", \"dog\", \"mouse\", \"monkey\", \"pig\", \"cow\", \"horse\", \"lion\", \"kangaroo\"]\n",
    "\n",
    "# YOUR SOLUTION HERE\n",
    "\n",
    "b = len(words)\n",
    "c = 0\n",
    "for i in range(0,b):\n",
    "    if 'a' in words[i]:\n",
    "        c = c+1\n",
    "        \n",
    "print(c)\n",
    "\n",
    "\n",
    "# find all integer numbers in range 1- 100 that are divisible by 5 and 3\n",
    "\n",
    "# YOUR SOLUTION HERE\n",
    "\n",
    "\n",
    "for i in range(1,101):\n",
    "    if (i%15)==0:\n",
    "        print(i)\n",
    "\n",
    "# format the following text to correct cases\n",
    "# - capital letter should be only the first letter in a sentence\n",
    "# - after dot should be single space\n",
    "# - instead multiple spaces there should be allways only one space\n",
    "\n",
    "text = \"THIS iS tHe   First SENTENCE.this is THE SEcond one.   LasT sentencE.\"\n",
    "\n",
    "    \n",
    "# YOUR SOLUTION HERE\n",
    "\n",
    "\n",
    "spl = text.split('.')\n",
    "\n",
    "for i in range(0,len(spl)):\n",
    "    spl[i] = spl[i].lower()\n",
    "    spl[i] = spl[i].strip()\n",
    "    spl[i] = spl[i].capitalize()\n",
    "    spl[i] = \" \".join(spl[i].split())\n",
    "\n",
    "\n",
    "new_text = \". \".join(spl)\n",
    "print(new_text)\n",
    "\n",
    "\n"
   ]
  },
  {
   "cell_type": "code",
   "execution_count": null,
   "metadata": {
    "collapsed": true
   },
   "outputs": [],
   "source": []
  }
 ],
 "metadata": {
  "kernelspec": {
   "display_name": "Python 3",
   "language": "python",
   "name": "python3"
  },
  "language_info": {
   "codemirror_mode": {
    "name": "ipython",
    "version": 3
   },
   "file_extension": ".py",
   "mimetype": "text/x-python",
   "name": "python",
   "nbconvert_exporter": "python",
   "pygments_lexer": "ipython3",
   "version": "3.6.1"
  }
 },
 "nbformat": 4,
 "nbformat_minor": 2
}
