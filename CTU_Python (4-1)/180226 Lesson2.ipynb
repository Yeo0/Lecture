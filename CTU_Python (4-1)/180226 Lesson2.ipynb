{
 "cells": [
  {
   "cell_type": "markdown",
   "metadata": {},
   "source": [
    "# Lesson 2 - Functions and Objects"
   ]
  },
  {
   "cell_type": "markdown",
   "metadata": {},
   "source": [
    "## Functions\n",
    "### Function definition"
   ]
  },
  {
   "cell_type": "code",
   "execution_count": 4,
   "metadata": {},
   "outputs": [
    {
     "name": "stdout",
     "output_type": "stream",
     "text": [
      "125\n"
     ]
    }
   ],
   "source": [
    "def function_name (parameter_1, parameter_2):\n",
    "    function_return = parameter_1 ** parameter_2 # parameter1^parameter2\n",
    "    return function_return #function_return 안만들고 바로 쓸 수 있음\n",
    "    \n",
    "print(function_name(5,3))"
   ]
  },
  {
   "cell_type": "markdown",
   "metadata": {},
   "source": [
    "### Variables, scopes and functions"
   ]
  },
  {
   "cell_type": "code",
   "execution_count": 13,
   "metadata": {},
   "outputs": [
    {
     "name": "stdout",
     "output_type": "stream",
     "text": [
      "par 3\n",
      "out_var 5\n",
      "out_var in main scope 5\n"
     ]
    }
   ],
   "source": [
    "def function(par):\n",
    "    print(\"par\",par)\n",
    "    print(\"out_var\",out_var)\n",
    "    \n",
    "out_var=5 #함수 바깥에서도 정의 가능\n",
    "function(3)\n",
    "print(\"out_var in main scope\", out_var)"
   ]
  },
  {
   "cell_type": "code",
   "execution_count": 14,
   "metadata": {},
   "outputs": [
    {
     "name": "stdout",
     "output_type": "stream",
     "text": [
      "par 3\n",
      "out_var [3, 5]\n",
      "out_var in main scope [3, 5]\n"
     ]
    }
   ],
   "source": [
    "def function(par):\n",
    "    print(\"par\",par)\n",
    "    out_var[0] =3\n",
    "    print(\"out_var\",out_var)\n",
    "    \n",
    "out_var=[5,5] \n",
    "function(3)\n",
    "print(\"out_var in main scope\", out_var)"
   ]
  },
  {
   "cell_type": "code",
   "execution_count": 15,
   "metadata": {},
   "outputs": [
    {
     "name": "stdout",
     "output_type": "stream",
     "text": [
      "[5, 5]\n",
      "[5, 5]\n",
      "[5, 5]\n",
      "[5, 6]\n"
     ]
    }
   ],
   "source": [
    "a=[5,5]\n",
    "b=a\n",
    "print (a)\n",
    "print(b)\n",
    "\n",
    "import copy\n",
    "b=copy.copy(a)\n",
    "\n",
    "b[1]=6\n",
    "print(a)\n",
    "print(b)"
   ]
  },
  {
   "cell_type": "markdown",
   "metadata": {},
   "source": [
    "### Definition of a Function in a Function"
   ]
  },
  {
   "cell_type": "code",
   "execution_count": 17,
   "metadata": {},
   "outputs": [
    {
     "name": "stdout",
     "output_type": "stream",
     "text": [
      "function 2 call\n"
     ]
    },
    {
     "data": {
      "text/plain": [
       "<function __main__.function1>"
      ]
     },
     "execution_count": 17,
     "metadata": {},
     "output_type": "execute_result"
    }
   ],
   "source": [
    "def function1():\n",
    "    def function2():\n",
    "        print(\"function 2 call\")\n",
    "    function2()\n",
    "    \n",
    "function1()\n",
    "#functions2()\n",
    "\n",
    "fun = function1\n",
    "fun"
   ]
  },
  {
   "cell_type": "code",
   "execution_count": 20,
   "metadata": {},
   "outputs": [
    {
     "name": "stdout",
     "output_type": "stream",
     "text": [
      "function 2 call\n",
      "function 2 call\n"
     ]
    }
   ],
   "source": [
    "def function1(par):\n",
    "    def function2(par):\n",
    "        print(\"function 2 call\")\n",
    "    function2(par)\n",
    "    \n",
    "function1(5)\n",
    "#functions2()\n",
    "\n",
    "fun = function1\n",
    "fun(5)"
   ]
  },
  {
   "cell_type": "markdown",
   "metadata": {},
   "source": [
    "### Function Closures"
   ]
  },
  {
   "cell_type": "code",
   "execution_count": 25,
   "metadata": {},
   "outputs": [
    {
     "name": "stdout",
     "output_type": "stream",
     "text": [
      "15\n",
      "25\n"
     ]
    }
   ],
   "source": [
    "def starAt(start):\n",
    "    def incrementBy(number):\n",
    "        return start + number\n",
    "    return incrementBy\n",
    "\n",
    "incrementFrom10 = starAt(10)\n",
    "#def incrementFrom10(number):\n",
    "#    return 10 + number\n",
    "\n",
    "incrementFrom20 = starAt(20)\n",
    "#def incrementFrom20(number):\n",
    "#    return 20 + number\n",
    "\n",
    "print(incrementFrom10(5))\n",
    "print(incrementFrom20(5))"
   ]
  },
  {
   "cell_type": "markdown",
   "metadata": {},
   "source": [
    "## Objects"
   ]
  },
  {
   "cell_type": "markdown",
   "metadata": {},
   "source": [
    "### Definition of Object Class"
   ]
  },
  {
   "cell_type": "code",
   "execution_count": 26,
   "metadata": {
    "collapsed": true
   },
   "outputs": [],
   "source": [
    "class Pet():\n",
    "    def __init__(self):\n",
    "        pass\n",
    "    \n",
    "pet1 = Pet()\n",
    "#Pet class안에 pet1이 있고 self가 pet1을 pointing함\n",
    "    "
   ]
  },
  {
   "cell_type": "code",
   "execution_count": 29,
   "metadata": {},
   "outputs": [
    {
     "name": "stdout",
     "output_type": "stream",
     "text": [
      "Pet\n",
      "pat 1\n",
      "Pet\n",
      "abc\n",
      "Pet\n"
     ]
    }
   ],
   "source": [
    "class Pet():\n",
    "    kind = \"Pet\"\n",
    "    def __init__(self,name):\n",
    "        self.name=name\n",
    "    \n",
    "print(Pet.kind)\n",
    "pet1=Pet('pat 1')\n",
    "print(pet1.name)\n",
    "print(pet1.kind)\n",
    "pet1.kind = \"abc\"\n",
    "print(pet1.kind)\n",
    "print(Pet.kind)\n",
    "\n"
   ]
  },
  {
   "cell_type": "code",
   "execution_count": 36,
   "metadata": {},
   "outputs": [
    {
     "name": "stdout",
     "output_type": "stream",
     "text": [
      "pet 1: Universal Pet Sound\n",
      "pet 2: Universal Pet Sound\n"
     ]
    }
   ],
   "source": [
    "class Pet():\n",
    "    kind = \"Pet\"\n",
    "    def __init__(self,name):\n",
    "        self.__name=name\n",
    "    def sound(self):\n",
    "        print(\"{0}: Universal Pet Sound\".format(self.__name))\n",
    "        \n",
    "pet1=Pet(\"pet 1\")\n",
    "pet2=Pet(\"pet 2\")\n",
    "\n",
    "pet1.sound()\n",
    "pet2.sound()\n",
    "\n"
   ]
  },
  {
   "cell_type": "code",
   "execution_count": 37,
   "metadata": {},
   "outputs": [
    {
     "name": "stdout",
     "output_type": "stream",
     "text": [
      "pet 1: Universal Pet Sound\n",
      "pet 2: Universal Pet Sound\n",
      "pet 1\n"
     ]
    }
   ],
   "source": [
    "class Pet():\n",
    "    kind = \"Pet\"\n",
    "    def __init__(self,name):\n",
    "        self.__name=name #private하게 설정\n",
    "    def sound(self):\n",
    "        print(\"{0}: Universal Pet Sound\".format(self.__name))\n",
    "        \n",
    "    def get_name(self):\n",
    "        return self.__name\n",
    "        \n",
    "pet1=Pet(\"pet 1\")\n",
    "pet2=Pet(\"pet 2\")\n",
    "\n",
    "pet1.sound()\n",
    "pet2.sound()\n",
    "\n",
    "print(pet1.get_name()) #private 변수 가져오는법"
   ]
  },
  {
   "cell_type": "markdown",
   "metadata": {},
   "source": [
    "### Inheritance"
   ]
  },
  {
   "cell_type": "code",
   "execution_count": 42,
   "metadata": {
    "collapsed": true
   },
   "outputs": [],
   "source": [
    "class Dog(Pet):\n",
    "    pass\n",
    "\n",
    "dog1=Dog"
   ]
  },
  {
   "cell_type": "code",
   "execution_count": 45,
   "metadata": {},
   "outputs": [
    {
     "name": "stdout",
     "output_type": "stream",
     "text": [
      "pet 1: Universal Pet Sound\n",
      "pet 2: Universal Pet Sound\n"
     ]
    }
   ],
   "source": [
    "class Pet():\n",
    "    kind = \"Pet\"\n",
    "    def __init__(self,name):\n",
    "        self.name=name \n",
    "    def sound(self):\n",
    "        print(\"{0}: Universal Pet Sound\".format(self.name))\n",
    "        \n",
    "    def get_name(self):\n",
    "        return self.__name\n",
    "        \n",
    "pet1=Pet(\"pet 1\")\n",
    "pet2=Pet(\"pet 2\")\n",
    "\n",
    "pet1.sound()\n",
    "pet2.sound()\n"
   ]
  },
  {
   "cell_type": "code",
   "execution_count": 53,
   "metadata": {},
   "outputs": [
    {
     "name": "stdout",
     "output_type": "stream",
     "text": [
      "Rex: Haf!\n",
      "['name', '__module__', 'sound', '__doc__', 'kind', '__init__', 'get_name', '__dict__', '__weakref__', '__repr__', '__hash__', '__str__', '__getattribute__', '__setattr__', '__delattr__', '__lt__', '__le__', '__eq__', '__ne__', '__gt__', '__ge__', '__new__', '__reduce_ex__', '__reduce__', '__subclasshook__', '__init_subclass__', '__format__', '__sizeof__', '__dir__', '__class__']\n"
     ]
    }
   ],
   "source": [
    "class Dog(Pet):\n",
    "    def sound(self):\n",
    "        print(\"{0}: Haf!\".format(self.name)) #위에 name 이 private 으로 설정되서. 바꿔주면 가능함\n",
    "        \n",
    "        \n",
    "rex = Dog(\"Rex\")\n",
    "rex.sound()\n",
    "\n",
    "dir(rex)\n",
    "print(rex.__dir__())"
   ]
  },
  {
   "cell_type": "code",
   "execution_count": 50,
   "metadata": {},
   "outputs": [
    {
     "name": "stdout",
     "output_type": "stream",
     "text": [
      "Rex: Haf!\n"
     ]
    }
   ],
   "source": [
    "class Dog(Pet):\n",
    "    def sound(self):\n",
    "        print(\"{0}: Haf!\".format(self.name)) #위에 name 이 private 으로 설정되서. 바꿔주면 가능함\n",
    "    def sound(self):\n",
    "        print(\"{0}: Haf!\".format(self.name)) #위에 name 이 private 으로 설정되서. 바꿔주면 가능함\n",
    "        \n",
    "          \n",
    "        \n",
    "rex = Dog(\"Rex\")\n",
    "rex.sound()\n"
   ]
  },
  {
   "cell_type": "markdown",
   "metadata": {},
   "source": [
    "### Python Variables = Objects"
   ]
  },
  {
   "cell_type": "code",
   "execution_count": 55,
   "metadata": {},
   "outputs": [
    {
     "data": {
      "text/plain": [
       "['__abs__',\n",
       " '__add__',\n",
       " '__and__',\n",
       " '__bool__',\n",
       " '__ceil__',\n",
       " '__class__',\n",
       " '__delattr__',\n",
       " '__dir__',\n",
       " '__divmod__',\n",
       " '__doc__',\n",
       " '__eq__',\n",
       " '__float__',\n",
       " '__floor__',\n",
       " '__floordiv__',\n",
       " '__format__',\n",
       " '__ge__',\n",
       " '__getattribute__',\n",
       " '__getnewargs__',\n",
       " '__gt__',\n",
       " '__hash__',\n",
       " '__index__',\n",
       " '__init__',\n",
       " '__init_subclass__',\n",
       " '__int__',\n",
       " '__invert__',\n",
       " '__le__',\n",
       " '__lshift__',\n",
       " '__lt__',\n",
       " '__mod__',\n",
       " '__mul__',\n",
       " '__ne__',\n",
       " '__neg__',\n",
       " '__new__',\n",
       " '__or__',\n",
       " '__pos__',\n",
       " '__pow__',\n",
       " '__radd__',\n",
       " '__rand__',\n",
       " '__rdivmod__',\n",
       " '__reduce__',\n",
       " '__reduce_ex__',\n",
       " '__repr__',\n",
       " '__rfloordiv__',\n",
       " '__rlshift__',\n",
       " '__rmod__',\n",
       " '__rmul__',\n",
       " '__ror__',\n",
       " '__round__',\n",
       " '__rpow__',\n",
       " '__rrshift__',\n",
       " '__rshift__',\n",
       " '__rsub__',\n",
       " '__rtruediv__',\n",
       " '__rxor__',\n",
       " '__setattr__',\n",
       " '__sizeof__',\n",
       " '__str__',\n",
       " '__sub__',\n",
       " '__subclasshook__',\n",
       " '__truediv__',\n",
       " '__trunc__',\n",
       " '__xor__',\n",
       " 'bit_length',\n",
       " 'conjugate',\n",
       " 'denominator',\n",
       " 'from_bytes',\n",
       " 'imag',\n",
       " 'numerator',\n",
       " 'real',\n",
       " 'to_bytes']"
      ]
     },
     "execution_count": 55,
     "metadata": {},
     "output_type": "execute_result"
    }
   ],
   "source": [
    "a =5\n",
    "a+6\n",
    "dir(a)"
   ]
  },
  {
   "cell_type": "code",
   "execution_count": 57,
   "metadata": {},
   "outputs": [
    {
     "data": {
      "text/plain": [
       "\"str(object='') -> str\\nstr(bytes_or_buffer[, encoding[, errors]]) -> str\\n\\nCreate a new string object from the given object. If encoding or\\nerrors is specified, then the object must expose a data buffer\\nthat will be decoded using the given encoding and error handler.\\nOtherwise, returns the result of object.__str__() (if defined)\\nor repr(object).\\nencoding defaults to sys.getdefaultencoding().\\nerrors defaults to 'strict'.\""
      ]
     },
     "execution_count": 57,
     "metadata": {},
     "output_type": "execute_result"
    }
   ],
   "source": [
    "a =\"abc\"\n",
    "a.__doc__"
   ]
  },
  {
   "cell_type": "markdown",
   "metadata": {},
   "source": [
    "### Subclassing of Standard Classes"
   ]
  },
  {
   "cell_type": "code",
   "execution_count": 60,
   "metadata": {},
   "outputs": [
    {
     "name": "stdout",
     "output_type": "stream",
     "text": [
      "5\n"
     ]
    }
   ],
   "source": [
    "class myInt(int):\n",
    "    pass\n",
    "a=myInt(5)\n",
    "print(a)"
   ]
  },
  {
   "cell_type": "code",
   "execution_count": 66,
   "metadata": {},
   "outputs": [
    {
     "data": {
      "text/plain": [
       "int"
      ]
     },
     "execution_count": 66,
     "metadata": {},
     "output_type": "execute_result"
    }
   ],
   "source": [
    "type(a)\n",
    "type(a+5)"
   ]
  },
  {
   "cell_type": "code",
   "execution_count": 63,
   "metadata": {},
   "outputs": [
    {
     "data": {
      "text/plain": [
       "10"
      ]
     },
     "execution_count": 63,
     "metadata": {},
     "output_type": "execute_result"
    }
   ],
   "source": [
    "a+5\n",
    "a.__add__(5)"
   ]
  },
  {
   "cell_type": "code",
   "execution_count": 71,
   "metadata": {
    "collapsed": true
   },
   "outputs": [],
   "source": [
    "class myInt(int):\n",
    "    def __init__(self, number):\n",
    "        super().__init__()\n",
    "    def __new__(cls, number):\n",
    "        return super().__new__(cls, number)\n",
    "    \n",
    "    def __add__(self,number):\n",
    "        return myInt(self.real + number)\n",
    "    \n",
    "    __radd__=__add__\n",
    "    \n",
    "    def __str__(self):\n",
    "        return \"{0}\".format(Self.real)\n",
    "    \n",
    "    \n",
    "class newInt():\n",
    "        def __init__(self, number):\n",
    "            self.real = number\n",
    "            \n",
    "        def __new__(cls, number):\n",
    "            return super().__new__(cls, number)\n",
    "    \n",
    "        def __add__(self,number):\n",
    "            return myInt(self.real + number)\n",
    "    \n",
    "        __radd__=__add__\n",
    "    \n",
    "        def __str__(self):\n",
    "            return \"{0}\".format(Self.real)\n",
    "       \n"
   ]
  },
  {
   "cell_type": "code",
   "execution_count": null,
   "metadata": {
    "collapsed": true
   },
   "outputs": [],
   "source": [
    "class newInt():\n",
    "    def __init__(self,number):\n",
    "        self.real = number\n",
    "        \n",
    "    def __add__\n",
    "    \n",
    "    "
   ]
  }
 ],
 "metadata": {
  "kernelspec": {
   "display_name": "Python 3",
   "language": "python",
   "name": "python3"
  },
  "language_info": {
   "codemirror_mode": {
    "name": "ipython",
    "version": 3
   },
   "file_extension": ".py",
   "mimetype": "text/x-python",
   "name": "python",
   "nbconvert_exporter": "python",
   "pygments_lexer": "ipython3",
   "version": "3.6.1"
  }
 },
 "nbformat": 4,
 "nbformat_minor": 2
}
