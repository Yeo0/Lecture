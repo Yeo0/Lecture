{
 "cells": [
  {
   "cell_type": "markdown",
   "metadata": {},
   "source": [
    "## Task 3"
   ]
  },
  {
   "cell_type": "markdown",
   "metadata": {},
   "source": [
    "Create the function MyFor which accept two parameters \"iterable\" and \"function\" and the output of the function is same as the following for loop:\n"
   ]
  },
  {
   "cell_type": "code",
   "execution_count": null,
   "metadata": {
    "collapsed": true
   },
   "outputs": [],
   "source": [
    "for x in interable: #interable만큼 function을 반복하는 함수 \n",
    "    function\n",
    "    "
   ]
  },
  {
   "cell_type": "code",
   "execution_count": 1,
   "metadata": {
    "collapsed": true
   },
   "outputs": [],
   "source": [
    "# YOUR SOLUTION WITH EXAMPLE OF USAGE HERE \n",
    "\n",
    "def MyFor(iterable, function):\n",
    "    iterable = iter(iterable)\n",
    "    while True:\n",
    "        try:\n",
    "            next(iterable)\n",
    "            function\n",
    "        except StopIteration:\n",
    "            break\n",
    "\n",
    "            \n",
    "MyFor([1,2,3,4],lambda x: x+3)\n",
    "            \n",
    "\n",
    "    "
   ]
  },
  {
   "cell_type": "code",
   "execution_count": null,
   "metadata": {
    "collapsed": true
   },
   "outputs": [],
   "source": [
    "\"\"\"\n",
    "def MyFor(iterable, function):\n",
    "   it = iter(iterable)\n",
    "   while True:\n",
    "      try:\n",
    "         function(next(ti))\n",
    "      except StopIteration\n",
    "         break\n",
    "\n",
    "def func(par):\n",
    "   print(par)\n",
    "\n",
    "MyFor(range(0,10), func)\n",
    "\"\"\""
   ]
  },
  {
   "cell_type": "markdown",
   "metadata": {},
   "source": [
    "Create a list of words from list \"words\" which contains exactly two letters \"s\". Use in-build filter function and lambda function."
   ]
  },
  {
   "cell_type": "code",
   "execution_count": 3,
   "metadata": {},
   "outputs": [
    {
     "data": {
      "text/plain": [
       "['meanless', 'supersonic']"
      ]
     },
     "execution_count": 3,
     "metadata": {},
     "output_type": "execute_result"
    }
   ],
   "source": [
    "words = [\"software\", \"cross-section\", \"shell-less\", \"meanless\", \"supersonic\", \"beers\", \"paper\", \"\"]\n",
    "# YOUR SOLUTION HERE\n",
    "\n",
    "list(filter(lambda words: words.count('s')==2, words))\n",
    "\n",
    "\n"
   ]
  },
  {
   "cell_type": "markdown",
   "metadata": {},
   "source": [
    "Create a list of words from list \"words\" whitch contains exactly two letters \"s\". Use list comprehension."
   ]
  },
  {
   "cell_type": "code",
   "execution_count": 2,
   "metadata": {},
   "outputs": [
    {
     "name": "stdout",
     "output_type": "stream",
     "text": [
      "['meanless', 'supersonic']\n"
     ]
    }
   ],
   "source": [
    "words = [\"\"]\n",
    "# YOUR SOLUTION HERE\n",
    "\n",
    "words = [\"software\", \"cross-section\", \"shell-less\", \"meanless\", \"supersonic\", \"beers\", \"paper\", \"\"]\n",
    "\n",
    "word = [words[i] for i in range(0,len(words)) if words[i].count('s')==2]\n",
    "print(word)"
   ]
  }
 ],
 "metadata": {
  "kernelspec": {
   "display_name": "Python 3",
   "language": "python",
   "name": "python3"
  },
  "language_info": {
   "codemirror_mode": {
    "name": "ipython",
    "version": 3
   },
   "file_extension": ".py",
   "mimetype": "text/x-python",
   "name": "python",
   "nbconvert_exporter": "python",
   "pygments_lexer": "ipython3",
   "version": "3.6.1"
  }
 },
 "nbformat": 4,
 "nbformat_minor": 2
}
