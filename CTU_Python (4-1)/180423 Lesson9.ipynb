{
 "cells": [
  {
   "cell_type": "markdown",
   "metadata": {},
   "source": [
    "# Catching errors and unit tests\n",
    "\n",
    "In this tutorial are few examples how catch error and how to perform unit tests in Python.\n",
    "\n",
    "When you code in Python, keep in mind:\n",
    "\n",
    "`Errors should never pass silently. Unless explicitly silenced.` (<a href=\"https://www.python.org/dev/peps/pep-0020/\">PEP20 - The Zen of Python</a>)\n",
    "\n",
    "## Error catching and silencing\n",
    "Following function is designed to sum two variables (numbers - float or integers) together and return this result as float"
   ]
  },
  {
   "cell_type": "code",
   "execution_count": 6,
   "metadata": {
    "collapsed": true
   },
   "outputs": [],
   "source": [
    "def sum_together1(a, b):\n",
    "    return a + b"
   ]
  },
  {
   "cell_type": "markdown",
   "metadata": {},
   "source": [
    "An example of correct use follows."
   ]
  },
  {
   "cell_type": "code",
   "execution_count": 7,
   "metadata": {},
   "outputs": [
    {
     "data": {
      "text/plain": [
       "3.0"
      ]
     },
     "execution_count": 7,
     "metadata": {},
     "output_type": "execute_result"
    }
   ],
   "source": [
    "sum_together1(1., 2)"
   ]
  },
  {
   "cell_type": "markdown",
   "metadata": {},
   "source": [
    "Example of incorrect use that finish without error follows."
   ]
  },
  {
   "cell_type": "code",
   "execution_count": 8,
   "metadata": {},
   "outputs": [
    {
     "data": {
      "text/plain": [
       "'ab'"
      ]
     },
     "execution_count": 8,
     "metadata": {},
     "output_type": "execute_result"
    }
   ],
   "source": [
    "sum_together1(\"a\", \"b\")"
   ]
  },
  {
   "cell_type": "markdown",
   "metadata": {},
   "source": [
    "Example of incorrect use that results in error follows"
   ]
  },
  {
   "cell_type": "code",
   "execution_count": 9,
   "metadata": {},
   "outputs": [
    {
     "ename": "TypeError",
     "evalue": "cannot concatenate 'str' and 'int' objects",
     "output_type": "error",
     "traceback": [
      "\u001b[0;31m\u001b[0m",
      "\u001b[0;31mTypeError\u001b[0mTraceback (most recent call last)",
      "\u001b[0;32m<ipython-input-9-3cf920f66894>\u001b[0m in \u001b[0;36m<module>\u001b[0;34m()\u001b[0m\n\u001b[0;32m----> 1\u001b[0;31m \u001b[0msum_together1\u001b[0m\u001b[0;34m(\u001b[0m\u001b[0;34m\"a\"\u001b[0m\u001b[0;34m,\u001b[0m \u001b[0;36m1\u001b[0m\u001b[0;34m)\u001b[0m\u001b[0;34m\u001b[0m\u001b[0m\n\u001b[0m",
      "\u001b[0;32m<ipython-input-6-475e8140922b>\u001b[0m in \u001b[0;36msum_together1\u001b[0;34m(a, b)\u001b[0m\n\u001b[1;32m      1\u001b[0m \u001b[0;32mdef\u001b[0m \u001b[0msum_together1\u001b[0m\u001b[0;34m(\u001b[0m\u001b[0ma\u001b[0m\u001b[0;34m,\u001b[0m \u001b[0mb\u001b[0m\u001b[0;34m)\u001b[0m\u001b[0;34m:\u001b[0m\u001b[0;34m\u001b[0m\u001b[0m\n\u001b[0;32m----> 2\u001b[0;31m     \u001b[0;32mreturn\u001b[0m \u001b[0ma\u001b[0m \u001b[0;34m+\u001b[0m \u001b[0mb\u001b[0m\u001b[0;34m\u001b[0m\u001b[0m\n\u001b[0m",
      "\u001b[0;31mTypeError\u001b[0m: cannot concatenate 'str' and 'int' objects"
     ]
    }
   ],
   "source": [
    "sum_together1(\"a\", 1)"
   ]
  },
  {
   "cell_type": "markdown",
   "metadata": {},
   "source": [
    "As you can see, if the function is used in incorrect way (different then planed) it can or cannot cause an error. If such a function is part of the application, both options are dangerous. Different version of the function above follows. This function allows only variables that are convertable to float."
   ]
  },
  {
   "cell_type": "code",
   "execution_count": 10,
   "metadata": {
    "collapsed": true
   },
   "outputs": [],
   "source": [
    "def sum_together2(a, b):\n",
    "    a = float(a)\n",
    "    b = float(b)\n",
    "    return a + b"
   ]
  },
  {
   "cell_type": "code",
   "execution_count": 11,
   "metadata": {},
   "outputs": [
    {
     "data": {
      "text/plain": [
       "3.0"
      ]
     },
     "execution_count": 11,
     "metadata": {},
     "output_type": "execute_result"
    }
   ],
   "source": [
    "sum_together2(1, 2)"
   ]
  },
  {
   "cell_type": "code",
   "execution_count": 12,
   "metadata": {},
   "outputs": [
    {
     "ename": "ValueError",
     "evalue": "could not convert string to float: a",
     "output_type": "error",
     "traceback": [
      "\u001b[0;31m\u001b[0m",
      "\u001b[0;31mValueError\u001b[0mTraceback (most recent call last)",
      "\u001b[0;32m<ipython-input-12-cbe1f4950d80>\u001b[0m in \u001b[0;36m<module>\u001b[0;34m()\u001b[0m\n\u001b[0;32m----> 1\u001b[0;31m \u001b[0msum_together2\u001b[0m\u001b[0;34m(\u001b[0m\u001b[0;34m\"a\"\u001b[0m\u001b[0;34m,\u001b[0m \u001b[0;34m\"b\"\u001b[0m\u001b[0;34m)\u001b[0m\u001b[0;34m\u001b[0m\u001b[0m\n\u001b[0m",
      "\u001b[0;32m<ipython-input-10-822a70236854>\u001b[0m in \u001b[0;36msum_together2\u001b[0;34m(a, b)\u001b[0m\n\u001b[1;32m      1\u001b[0m \u001b[0;32mdef\u001b[0m \u001b[0msum_together2\u001b[0m\u001b[0;34m(\u001b[0m\u001b[0ma\u001b[0m\u001b[0;34m,\u001b[0m \u001b[0mb\u001b[0m\u001b[0;34m)\u001b[0m\u001b[0;34m:\u001b[0m\u001b[0;34m\u001b[0m\u001b[0m\n\u001b[0;32m----> 2\u001b[0;31m     \u001b[0ma\u001b[0m \u001b[0;34m=\u001b[0m \u001b[0mfloat\u001b[0m\u001b[0;34m(\u001b[0m\u001b[0ma\u001b[0m\u001b[0;34m)\u001b[0m\u001b[0;34m\u001b[0m\u001b[0m\n\u001b[0m\u001b[1;32m      3\u001b[0m     \u001b[0mb\u001b[0m \u001b[0;34m=\u001b[0m \u001b[0mfloat\u001b[0m\u001b[0;34m(\u001b[0m\u001b[0mb\u001b[0m\u001b[0;34m)\u001b[0m\u001b[0;34m\u001b[0m\u001b[0m\n\u001b[1;32m      4\u001b[0m     \u001b[0;32mreturn\u001b[0m \u001b[0ma\u001b[0m \u001b[0;34m+\u001b[0m \u001b[0mb\u001b[0m\u001b[0;34m\u001b[0m\u001b[0m\n",
      "\u001b[0;31mValueError\u001b[0m: could not convert string to float: a"
     ]
    }
   ],
   "source": [
    "sum_together2(\"a\", \"b\")"
   ]
  },
  {
   "cell_type": "markdown",
   "metadata": {},
   "source": [
    "In some cases you cannot allow the applications to crash, but providing of incorrect (predefined) result is ok. Example follows."
   ]
  },
  {
   "cell_type": "code",
   "execution_count": 13,
   "metadata": {
    "collapsed": true
   },
   "outputs": [],
   "source": [
    "def sum_together3(a, b):\n",
    "    try:\n",
    "        a = float(a)\n",
    "        b = float(b)\n",
    "        return a + b\n",
    "    except:\n",
    "        return 0.0"
   ]
  },
  {
   "cell_type": "code",
   "execution_count": 14,
   "metadata": {},
   "outputs": [
    {
     "data": {
      "text/plain": [
       "3.0"
      ]
     },
     "execution_count": 14,
     "metadata": {},
     "output_type": "execute_result"
    }
   ],
   "source": [
    "sum_together3(1, 2)"
   ]
  },
  {
   "cell_type": "code",
   "execution_count": 15,
   "metadata": {},
   "outputs": [
    {
     "data": {
      "text/plain": [
       "0.0"
      ]
     },
     "execution_count": 15,
     "metadata": {},
     "output_type": "execute_result"
    }
   ],
   "source": [
    "sum_together3(\"a\", \"b\")"
   ]
  },
  {
   "cell_type": "markdown",
   "metadata": {},
   "source": [
    "In practice, you should still report/log this issues somehow, otherwise you will have no information about errors silenced like this."
   ]
  },
  {
   "cell_type": "markdown",
   "metadata": {},
   "source": [
    "## Unit tests\n",
    "Unit test is term describing tests for partical code units (functions, classes, blocks). In this tutorial are examples of such a tests. For the design of the tests was used <a href=\"https://docs.python.org/2.7/library/unittest.html\">unittest</a>, that is standard Python library. Few simple tests follows. Some test are designed to fail - they are obviously wrong."
   ]
  },
  {
   "cell_type": "code",
   "execution_count": 16,
   "metadata": {},
   "outputs": [
    {
     "name": "stderr",
     "output_type": "stream",
     "text": [
      "test_equality (__main__.Test1) ... FAIL\n",
      "test_float_and_int_equality (__main__.Test1) ... ok\n",
      "test_type_error_number_and_number (__main__.Test1) ... FAIL\n",
      "test_type_error_number_and_string (__main__.Test1) ... ok\n",
      "\n",
      "======================================================================\n",
      "FAIL: test_equality (__main__.Test1)\n",
      "----------------------------------------------------------------------\n",
      "Traceback (most recent call last):\n",
      "  File \"<ipython-input-16-8d3c131afff0>\", line 18, in test_equality\n",
      "    self.assertEquals(0., 1.)\n",
      "AssertionError: 0.0 != 1.0\n",
      "\n",
      "======================================================================\n",
      "FAIL: test_type_error_number_and_number (__main__.Test1)\n",
      "----------------------------------------------------------------------\n",
      "Traceback (most recent call last):\n",
      "  File \"<ipython-input-16-8d3c131afff0>\", line 12, in test_type_error_number_and_number\n",
      "    1 + 1\n",
      "AssertionError: TypeError not raised\n",
      "\n",
      "----------------------------------------------------------------------\n",
      "Ran 4 tests in 0.008s\n",
      "\n",
      "FAILED (failures=2)\n"
     ]
    },
    {
     "data": {
      "text/plain": [
       "<unittest.runner.TextTestResult run=4 errors=0 failures=2>"
      ]
     },
     "execution_count": 16,
     "metadata": {},
     "output_type": "execute_result"
    }
   ],
   "source": [
    "import unittest\n",
    "\n",
    "\n",
    "class Test1(unittest.TestCase):\n",
    "\n",
    "    def test_type_error_number_and_string(self):\n",
    "        with self.assertRaises(TypeError):\n",
    "            1 + \"a\"\n",
    "            \n",
    "    def test_type_error_number_and_number(self): # wrong test!\n",
    "        with self.assertRaises(TypeError):\n",
    "            1 + 1\n",
    "\n",
    "    def test_float_and_int_equality(self):\n",
    "        self.assertEquals(0, 0.0)\n",
    "        \n",
    "    def test_equality(self): # this test is wrong!\n",
    "        self.assertEquals(0., 1.)            \n",
    "            \n",
    "suite = unittest.TestLoader().loadTestsFromTestCase(Test1)\n",
    "unittest.TextTestRunner(verbosity=3).run(suite)"
   ]
  },
  {
   "cell_type": "markdown",
   "metadata": {},
   "source": [
    "Example of unit tests for functions created before (`sum_together1, sum_together2, sum_together3`) follows."
   ]
  },
  {
   "cell_type": "code",
   "execution_count": 30,
   "metadata": {},
   "outputs": [
    {
     "name": "stderr",
     "output_type": "stream",
     "text": [
      ".....F\n",
      "======================================================================\n",
      "FAIL: test_validity_sum_together3 (__main__.Test2)\n",
      "----------------------------------------------------------------------\n",
      "Traceback (most recent call last):\n",
      "  File \"<ipython-input-30-bd8899f123c7>\", line 50, in test_validity_sum_together3\n",
      "    self.assertEquals(sum_together3(1, 0), 1.10)\n",
      "AssertionError: 1.0 != 1.1\n",
      "\n",
      "----------------------------------------------------------------------\n",
      "Ran 6 tests in 0.007s\n",
      "\n",
      "FAILED (failures=1)\n"
     ]
    },
    {
     "data": {
      "text/plain": [
       "<unittest.runner.TextTestResult run=6 errors=0 failures=1>"
      ]
     },
     "execution_count": 30,
     "metadata": {},
     "output_type": "execute_result"
    }
   ],
   "source": [
    "import unittest\n",
    "\n",
    "class Test2(unittest.TestCase):\n",
    "\n",
    "    def test_nan_sum_together1(self):\n",
    "        \"\"\"\n",
    "        Check if it throws error only for unsumable inputs.\n",
    "        \"\"\"\n",
    "        # this should pass\n",
    "        sum_together1(\"a\", \"b\")\n",
    "        # this should fail\n",
    "        with self.assertRaises(TypeError):\n",
    "            sum_together1(1, \"b\")\n",
    "        \n",
    "    def test_nan_sum_together2(self):\n",
    "        \"\"\"\n",
    "        Check if it throws error every time.\n",
    "        \"\"\"\n",
    "        with self.assertRaises(ValueError):\n",
    "            sum_together2(\"a\", \"b\")\n",
    "        with self.assertRaises(ValueError):\n",
    "            sum_together2(1, \"b\")            \n",
    "   \n",
    "    def test_nan_sum_together3(self):\n",
    "        \"\"\"\n",
    "        Check if it provides correct default\n",
    "        \"\"\"\n",
    "        self.assertEquals(sum_together3(\"a\", \"b\"), 0.0)\n",
    "        self.assertEquals(sum_together3(1, \"b\"), 0.0)\n",
    "\n",
    "    def test_validity_sum_together1(self):\n",
    "        \"\"\"\n",
    "        Check if it returns correct values.\n",
    "        \"\"\"\n",
    "        self.assertEquals(sum_together1(0, 0), 0.0)\n",
    "        self.assertEquals(sum_together1(1, 0), 1.0)\n",
    "        \n",
    "    def test_validity_sum_together2(self):\n",
    "        \"\"\"\n",
    "        Check if it returns correct values.\n",
    "        \"\"\"\n",
    "        self.assertEquals(sum_together2(0, 0), 0.0)\n",
    "        self.assertEquals(sum_together2(1, 0), 1.0)\n",
    "        \n",
    "    def test_validity_sum_together3(self):\n",
    "        \"\"\"\n",
    "        Check if it returns correct values.\n",
    "        \"\"\"\n",
    "        self.assertEquals(sum_together3(0, 0), 0.0)\n",
    "        self.assertEquals(sum_together3(1, 0), 1.10)\n",
    "            \n",
    "\n",
    "            \n",
    "suite = unittest.TestLoader().loadTestsFromTestCase(Test2)\n",
    "unittest.TextTestRunner(verbosity=1).run(suite)"
   ]
  },
  {
   "cell_type": "markdown",
   "metadata": {},
   "source": [
    "### Examples\n",
    "\n",
    "* Requests library: https://github.com/requests/requests/tree/master/tests\n",
    "* Pygame library: https://github.com/pygame/pygame/tree/master/test"
   ]
  },
  {
   "cell_type": "code",
   "execution_count": null,
   "metadata": {
    "collapsed": true
   },
   "outputs": [],
   "source": []
  }
 ],
 "metadata": {
  "kernelspec": {
   "display_name": "Python 3",
   "language": "python",
   "name": "python3"
  },
  "language_info": {
   "codemirror_mode": {
    "name": "ipython",
    "version": 3
   },
   "file_extension": ".py",
   "mimetype": "text/x-python",
   "name": "python",
   "nbconvert_exporter": "python",
   "pygments_lexer": "ipython3",
   "version": "3.6.1"
  }
 },
 "nbformat": 4,
 "nbformat_minor": 2
}
