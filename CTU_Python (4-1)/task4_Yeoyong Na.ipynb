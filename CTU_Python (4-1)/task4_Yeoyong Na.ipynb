{
 "cells": [
  {
   "cell_type": "markdown",
   "metadata": {},
   "source": [
    "Import content from html file with input data (PATH_INPUT) and convert in a nice way into json in a form presented in output file (PATH_OUTPUT).\n",
    "\n",
    "In other words, select important data from html file and store it in json file."
   ]
  },
  {
   "cell_type": "code",
   "execution_count": 7,
   "metadata": {
    "collapsed": true
   },
   "outputs": [],
   "source": [
    "PATH_INPUT = \"data/task3_input.html\" \n",
    "PATH_OUTPUT = \"data/task3_output.json\"\n",
    "\n",
    "# help: how to import file content\n",
    "with open(PATH_INPUT, 'r') as datafile:\n",
    "    sample_html = datafile.read()\n",
    "    \n",
    "# now you can do stuff with 'sample_html' variable"
   ]
  },
  {
   "cell_type": "code",
   "execution_count": 30,
   "metadata": {},
   "outputs": [],
   "source": [
    "from bs4 import BeautifulSoup\n",
    "import json\n",
    "from collections import OrderedDict\n",
    "PATH_INPUT = \"task3_input.html\"\n",
    "PATH_OUTPUT = \"task3_output.json\"\n",
    "\n",
    "group_data = OrderedDict()\n",
    "nonstaff = []\n",
    "staff = []\n",
    "person = OrderedDict()\n",
    "with open(PATH_INPUT, 'r') as datafile:\n",
    "    sample_html = datafile.read()\n",
    "    soup = BeautifulSoup(sample_html, \"html.parser\")\n",
    "    p_tags = soup.find_all(\"p\")\n",
    "    for p in p_tags:\n",
    "        group_data[p.get('id')] = p.getText().split(': ')[1]\n",
    "\n",
    "    tr_tags = soup.find_all(\"tr\")\n",
    "    for tr in tr_tags:\n",
    "        td_tags = tr.find_all(\"td\")\n",
    "        if len(td_tags) == 0:\n",
    "            th_tags = tr.find_all(\"th\")\n",
    "            if th_tags[2].getText() == \"staff\":\n",
    "                staff.append({\"name\":th_tags[0].getText(),\"score\":th_tags[1].getText()})\n",
    "            else:\n",
    "                nonstaff.append({\"name\": th_tags[0].getText(), \"score\": th_tags[1].getText()})\n",
    "        else:\n",
    "            if td_tags[2].getText() == \"staff\":\n",
    "                staff.append({\"name\":td_tags[0].getText(),\"score\":td_tags[1].getText()})\n",
    "            else:\n",
    "                nonstaff.append({\"name\": td_tags[0].getText(), \"score\": td_tags[1].getText()})\n",
    "    group_data[\"nonstaff\"] = nonstaff\n",
    "    group_data[\"staff\"] = staff\n",
    "    json_file = json.dumps(group_data, ensure_ascii=True, indent='\\t')\n",
    "\n",
    "with open(PATH_OUTPUT, 'w') as savefile:\n",
    "    savefile.write(json_file)"
   ]
  }
 ],
 "metadata": {
  "kernelspec": {
   "display_name": "Python 3",
   "language": "python",
   "name": "python3"
  },
  "language_info": {
   "codemirror_mode": {
    "name": "ipython",
    "version": 3
   },
   "file_extension": ".py",
   "mimetype": "text/x-python",
   "name": "python",
   "nbconvert_exporter": "python",
   "pygments_lexer": "ipython3",
   "version": "3.6.1"
  }
 },
 "nbformat": 4,
 "nbformat_minor": 2
}
